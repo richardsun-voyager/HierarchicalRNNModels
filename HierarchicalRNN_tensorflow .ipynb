{
 "cells": [
  {
   "cell_type": "code",
   "execution_count": 1,
   "metadata": {
    "collapsed": true
   },
   "outputs": [],
   "source": [
    "import numpy as np\n",
    "import matplotlib.pyplot as plt\n",
    "import re\n",
    "import string\n",
    "import tensorflow as tf\n",
    "from collections import Counter\n",
    "%matplotlib inline"
   ]
  },
  {
   "cell_type": "markdown",
   "metadata": {},
   "source": [
    "## Data Preprocessing\n",
    "We can download the 20news data by the tools like fetch_20newsgroup. Note, **we are going to remove the headers and footers in order they contain straightforward words which indicate the labels.**"
   ]
  },
  {
   "cell_type": "code",
   "execution_count": 2,
   "metadata": {
    "collapsed": false
   },
   "outputs": [],
   "source": [
    "from sklearn.datasets import fetch_20newsgroups\n",
    "newsgroups_train = fetch_20newsgroups(subset='train', remove=('headers', 'footers'),\n",
    "                                  shuffle=True, random_state=11)\n",
    "newsgroups_test = fetch_20newsgroups(subset='test', remove=('headers',  'footers'),\n",
    "                                  shuffle=True, random_state=11)"
   ]
  },
  {
   "cell_type": "code",
   "execution_count": 3,
   "metadata": {
    "collapsed": false
   },
   "outputs": [
    {
     "name": "stdout",
     "output_type": "stream",
     "text": [
      "Training text number: 11314\n",
      "Testing text number: 7532\n"
     ]
    }
   ],
   "source": [
    "print('Training text number:', len(newsgroups_train.data))\n",
    "print('Testing text number:', len(newsgroups_test.data))"
   ]
  },
  {
   "cell_type": "code",
   "execution_count": 4,
   "metadata": {
    "collapsed": false
   },
   "outputs": [
    {
     "data": {
      "text/plain": [
       "'talk.religion.misc'"
      ]
     },
     "execution_count": 4,
     "metadata": {},
     "output_type": "execute_result"
    }
   ],
   "source": [
    "newsgroups_train.target_names[newsgroups_train.target[3]]"
   ]
  },
  {
   "cell_type": "code",
   "execution_count": 5,
   "metadata": {
    "collapsed": false
   },
   "outputs": [
    {
     "name": "stdout",
     "output_type": "stream",
     "text": [
      "In article <1r3le9$mlj@horus.ap.mchp.sni.de> frank@D012S658.uucp (Frank O'Dwyer) writes:\n",
      ">In article <1r22qp$4sk@squick.eitech.com> ekr@squick.eitech.com (Eric Rescorla) writes:\n",
      ">#In article <1r0m89$r0o@horus.ap.mchp.sni.de> frank@D012S658.uucp (Frank O'Dwyer) writes:\n",
      ">#>In article <1qvu33$jk3@kyle.eitech.com> ekr@kyle.eitech.com (Eric Rescorla) writes:\n",
      ">#>#>If almost all people agree that the sun exists (in the usual, uncritical sense),\n",
      ">#>#>and almost all people agree that  a deal is bad,  it's a reasonable \n",
      ">#>#>conclusion that the sun really does exist, and that the deal really is bad.\n",
      ">#>#I disagree completely. Until rather recently, most people did not\n",
      ">#>#believe in evolution or the possibility of the atom bomb. Popular\n",
      ">#>#opinion is notoriously wrong about matters of fact.\n",
      ">#>True, but nevertheless the basis of all \"matters of fact\" is overwhelming\n",
      ">#>popular opinion, and some overwhelming popular opinion *is* fact (\"the\n",
      ">#>sun shines\").  If it were not so, physics would be a personal matter,\n",
      ">#>assumed to be different for each of us.  There would be YourGravity and\n",
      ">#>MyGravity and no theoretical framework to encompass them and predict\n",
      ">#>both.  \n",
      ">#This is simply complete nonsense. The basis for 'matters of fact' is,\n",
      ">#if any class of opinion, the majority of INFORMED popular opinion\n",
      ">#for some value of informed. I would really hate to base my knowledge\n",
      ">#of, for instance, QM on what the overwhelming popular opinion is.\n",
      ">The *basis*, Eric, is people peering at the world and saying what\n",
      ">they see.  I'm talking about uninterpreted facts - observations.  _People_\n",
      ">do those.  Agreement on some observations is a prerequisite for a theory\n",
      ">that is more than personal.\n",
      "Yes, that's true, but you have to be clear exactly what is\n",
      "an uninterpreted observation. It's pretty low level stuff.\n",
      "'The sun shines' is already a LOT higher level than that. We\n",
      "can agree that 'I perceive brightness' perhaps.\n",
      "\n",
      ">#>Now I take an experience of good/evil to be every bit as raw a fact as an\n",
      ">#>experience of pain, or vision.\n",
      ">#That might seem like a good first pass guess, but it turns out to\n",
      ">#be a pretty cruddy way to look at things, because we all seem to\n",
      ">#have rather different opinions (experiences) about what is good\n",
      ">#and evil, while we seem to be able to agree on what the meter says.\n",
      ">You're not comparing apples with apples.  If we all look at the same meter,\n",
      ">we'll agree.  If we're all in the same situation, that's when we'll\n",
      ">agree on fundamental values, if at all.  People who say that nobody agrees on\n",
      ">values to the same extent that they agree on trivial observations seem\n",
      ">to be unaware of the extent of agreement on either.\n",
      "Huh? What do you mean 'all in the same situation?' Let's take me\n",
      "and Dennis Kriz as examples. We're in pretty different situations,\n",
      "but I think we can agree as to whether it's day or night. I don't\n",
      "think we can agree as to whether or not abortion is morally\n",
      "acceptable. Yet we are certainly in the same difference of\n",
      "situations with respect to each other. Looks like weasel-words\n",
      "to me, Frank. \n",
      "\n",
      ">#I don't see that it's any evidence at all.\n",
      ">#As I point out above, I'm really not interested very much in\n",
      ">#what the popular opinion is. I'm prepared to trust--to some extent--\n",
      ">#the popular opinion about direct matters of physical observation\n",
      ">#because by and large they accord with my own. However, if everyone\n",
      ">#else said the dial read 1.5 and it looked like a 3 to me, I would\n",
      ">#hope that I would believe myself. I.e. believing other people about\n",
      ">#these matters seems to have a reasonable probability of predicting\n",
      ">#what I would believe if I observed myself, but the possibility exists\n",
      ">#that it is not. Since I know from observation that others disagree\n",
      ">#with me about what is good, I believe I can discount popular opinion\n",
      ">#about 'good' from the beginning as a predictor of my opinion.\n",
      ">#I would say that the fact that it seems almost impossible to get\n",
      ">#people to agree on what is good in a really large number of situations\n",
      ">#is probably the best evidence that objective morality is bogus, actually.\n",
      ">Firstly, if everyone else said the dial was 1.5 and I saw 3, I'd check\n",
      ">my lens prescription.\n",
      "That's up to you, I guess.\n",
      "\n",
      ">  Secondly, your observation that people\n",
      ">disagree shows nothing - people may be looking at different things,\n",
      ">by virtue of being in different situations.  If I look at an elephant, I'll \n",
      ">see an elephant.  That doesn't imply that you will see an elephant if you \n",
      ">look at an iguana.\n",
      "This 'different situations' stuff is pretty confusing, Frank. How\n",
      "do we decide if we are in the same situation? You mind explaining?\n",
      "\n",
      ">    Thirdly, I question your assumption that when\n",
      ">people disagree about how to achieve fundamental or secondary goals, that \n",
      ">they therefore do not have the same fundamental goals (that seems to be the \n",
      ">disagreement you refer to).\n",
      "Huh? I don't think so. I think that people disagree about\n",
      "fundamental goals.\n",
      "\n",
      "-Ekr\n",
      "\n"
     ]
    }
   ],
   "source": [
    "print(newsgroups_train.data[3])"
   ]
  },
  {
   "cell_type": "code",
   "execution_count": 6,
   "metadata": {
    "collapsed": true
   },
   "outputs": [],
   "source": [
    "train_text_lenghts =list(map(len, newsgroups_train.data))\n",
    "test_text_lenghts =list(map(len, newsgroups_test.data))"
   ]
  },
  {
   "cell_type": "code",
   "execution_count": 7,
   "metadata": {
    "collapsed": false
   },
   "outputs": [
    {
     "data": {
      "text/plain": [
       "array([  109.  ,   294.  ,   436.  ,   820.  ,  1512.75,  4393.75,  8301.92])"
      ]
     },
     "execution_count": 7,
     "metadata": {},
     "output_type": "execute_result"
    }
   ],
   "source": [
    "np.percentile(train_text_lenghts, [3, 15, 25, 50, 75, 95, 98])"
   ]
  },
  {
   "cell_type": "code",
   "execution_count": 8,
   "metadata": {
    "collapsed": false
   },
   "outputs": [
    {
     "data": {
      "image/png": "[encoded data removed]",
      "text/plain": [
       "<matplotlib.figure.Figure at 0x1c3381cc898>"
      ]
     },
     "metadata": {},
     "output_type": "display_data"
    }
   ],
   "source": [
    "_ = plt.hist(train_text_lenghts, bins=15)\n",
    "_ = plt.title('Text Lengths Distribution')"
   ]
  },
  {
   "cell_type": "markdown",
   "metadata": {},
   "source": [
    "The majority of texts have lengths less than 10000."
   ]
  },
  {
   "cell_type": "markdown",
   "metadata": {},
   "source": [
    "## Split News into Sentences"
   ]
  },
  {
   "cell_type": "code",
   "execution_count": 9,
   "metadata": {
    "collapsed": true
   },
   "outputs": [],
   "source": [
    "import re\n",
    "import nltk\n",
    "import nltk.data\n",
    "class splitTexts:\n",
    "    '''Split articles into sentences'''\n",
    "    def __init__(self):\n",
    "        self.tokenizer = nltk.data.load('tokenizers/punkt/english.pickle')\n",
    "        \n",
    "    def __preprocess(self, text):\n",
    "        pattern1 = r'[A-Z0-9._%+-]+@[A-Z0-9.-]+\\.[A-Z]{2,5}'\n",
    "        regex1 = re.compile(pattern1, flags=re.IGNORECASE)\n",
    "        text = regex1.sub('email', text)\n",
    "        pattern2 = '[|#$@><=+-]'\n",
    "        regex2 = re.compile(pattern2)\n",
    "        text = regex2.sub(' ', text)\n",
    "        pattern3 = r'\\n'\n",
    "        regex3 = re.compile(pattern3)\n",
    "        text = regex3.sub(' ', text)\n",
    "        pattern4 = r'[0-9]'\n",
    "        regex4 = re.compile(pattern4)\n",
    "        text = regex4.sub(' ', text)\n",
    "        pattern5 = r'[ ]+'\n",
    "        regex5 = re.compile(pattern5)\n",
    "        text = regex5.sub(' ', text)\n",
    "        return text.lower()\n",
    "    \n",
    "    def split(self, text):\n",
    "        text = self.__preprocess(text)\n",
    "        sentences = self.tokenizer.tokenize(text)\n",
    "        return sentences\n",
    "        "
   ]
  },
  {
   "cell_type": "code",
   "execution_count": 10,
   "metadata": {
    "collapsed": false
   },
   "outputs": [],
   "source": [
    "splitSent = splitTexts()\n",
    "train_news_sents = [splitSent.split(news) for news in newsgroups_train.data]\n",
    "test_news_sents = [splitSent.split(news) for news in newsgroups_test.data]"
   ]
  },
  {
   "cell_type": "code",
   "execution_count": 11,
   "metadata": {
    "collapsed": false
   },
   "outputs": [
    {
     "data": {
      "text/plain": [
       "<matplotlib.text.Text at 0x1c343b08940>"
      ]
     },
     "execution_count": 11,
     "metadata": {},
     "output_type": "execute_result"
    },
    {
     "data": {
      "image/png": "[encoded data removed]",
      "text/plain": [
       "<matplotlib.figure.Figure at 0x1c339351cf8>"
      ]
     },
     "metadata": {},
     "output_type": "display_data"
    }
   ],
   "source": [
    "#Calculate the lengths of each news\n",
    "news_sent_num = list(map(len, train_news_sents))\n",
    "_ = plt.hist(news_sent_num, bins=10)\n",
    "plt.title('Histogram of News Sentence Number')"
   ]
  },
  {
   "cell_type": "code",
   "execution_count": 12,
   "metadata": {
    "collapsed": false
   },
   "outputs": [
    {
     "data": {
      "text/plain": [
       "array([  5.,   8.,  15.,  43.])"
      ]
     },
     "execution_count": 12,
     "metadata": {},
     "output_type": "execute_result"
    }
   ],
   "source": [
    "np.percentile(news_sent_num, [25, 50, 75, 95])"
   ]
  },
  {
   "cell_type": "markdown",
   "metadata": {},
   "source": [
    "Most news has less than 100 sentences. Actually, 95% news has less than 40 sentences. We need to remove those news with a lot of sentences because two much length may counter the memory of RNNmodel."
   ]
  },
  {
   "cell_type": "code",
   "execution_count": 13,
   "metadata": {
    "collapsed": false
   },
   "outputs": [
    {
     "data": {
      "text/plain": [
       "0"
      ]
     },
     "execution_count": 13,
     "metadata": {},
     "output_type": "execute_result"
    }
   ],
   "source": [
    "min(news_sent_num)"
   ]
  },
  {
   "cell_type": "markdown",
   "metadata": {},
   "source": [
    "## Split sentences into words\n",
    "\n",
    "First, we need to filter out those news without much information, namely news of one or two words."
   ]
  },
  {
   "cell_type": "code",
   "execution_count": 14,
   "metadata": {
    "collapsed": false
   },
   "outputs": [],
   "source": [
    "train_data = list(zip(train_news_sents, newsgroups_train.target))\n",
    "test_data = list(zip(test_news_sents, newsgroups_test.target))"
   ]
  },
  {
   "cell_type": "markdown",
   "metadata": {},
   "source": [
    "Remove news with  more than 50 sentences."
   ]
  },
  {
   "cell_type": "code",
   "execution_count": 15,
   "metadata": {
    "collapsed": false
   },
   "outputs": [],
   "source": [
    "#Filter those empty texts and texts of too many sentences\n",
    "train_data = list(filter(lambda x: len(x[0])>0 and len(x[0])<50, train_data))\n",
    "test_data = list(filter(lambda x: len(x[0])>0 and len(x[0])<50, test_data))"
   ]
  },
  {
   "cell_type": "code",
   "execution_count": 16,
   "metadata": {
    "collapsed": false
   },
   "outputs": [
    {
     "name": "stdout",
     "output_type": "stream",
     "text": [
      "Training Sample Number 10834\n",
      "Testing Sample Number 7238\n"
     ]
    }
   ],
   "source": [
    "print('Training Sample Number', len(train_data))\n",
    "print('Testing Sample Number', len(test_data))"
   ]
  },
  {
   "cell_type": "markdown",
   "metadata": {},
   "source": [
    "Dozens of news has been filtered out due to the small size."
   ]
  },
  {
   "cell_type": "code",
   "execution_count": 17,
   "metadata": {
    "collapsed": false
   },
   "outputs": [],
   "source": [
    "from nltk.tokenize import WordPunctTokenizer\n",
    "from nltk.stem import WordNetLemmatizer\n",
    "\n",
    "class splitSent:\n",
    "    def __init__(self):\n",
    "        self.tokenizer = WordPunctTokenizer().tokenize\n",
    "        self.lemmatizer = WordNetLemmatizer().lemmatize\n",
    "        \n",
    "    def __preprocess(self, sent):\n",
    "        return None\n",
    "    \n",
    "    def split(self, sent):\n",
    "        '''\n",
    "        Split a sentence into words\n",
    "        Lemmatize words\n",
    "        '''\n",
    "        words = self.tokenizer(sent)    \n",
    "        words = list(map(self.lemmatizer, words))\n",
    "        return words\n",
    "    \n",
    "    def splitList(self, sents):\n",
    "        sents_words = list(map(self.split, sents))\n",
    "        return sents_words\n",
    "        "
   ]
  },
  {
   "cell_type": "code",
   "execution_count": 18,
   "metadata": {
    "collapsed": false
   },
   "outputs": [
    {
     "data": {
      "text/plain": [
       "['I', 'love', 'dog', 'and', 'cat', 'very', 'much', '!']"
      ]
     },
     "execution_count": 18,
     "metadata": {},
     "output_type": "execute_result"
    }
   ],
   "source": [
    "splitsent = splitSent()\n",
    "splitsent.split('I love dogs and cats very much!')"
   ]
  },
  {
   "cell_type": "markdown",
   "metadata": {},
   "source": [
    "We tokenize each sentence into words and punctuations."
   ]
  },
  {
   "cell_type": "code",
   "execution_count": 19,
   "metadata": {
    "collapsed": false
   },
   "outputs": [],
   "source": [
    "hier_train_data = [(splitsent.splitList(item[0]), item[1]) for item in train_data]\n",
    "hier_test_data = [(splitsent.splitList(item[0]), item[1]) for item in test_data]"
   ]
  },
  {
   "cell_type": "markdown",
   "metadata": {},
   "source": [
    "## Transform words to IDs\n",
    "\n",
    "Words and sentences are tokens which can be understood by humans but not computers. Therefore, we need to transform them into numbers that can be handled by computers. First of all, we need to build a vocabulary and map each word to an ID, then we can represent each sentence with a sequence of IDs."
   ]
  },
  {
   "cell_type": "code",
   "execution_count": 20,
   "metadata": {
    "collapsed": false
   },
   "outputs": [],
   "source": [
    "import itertools\n",
    "from collections import Counter, Iterable\n",
    "class text2ids:\n",
    "    '''\n",
    "    Provide tools to split sents and build vocabulary\n",
    "    To map a sent into sequence if Ids\n",
    "    '''\n",
    "    def __init__(self):\n",
    "        pass\n",
    "\n",
    "    \n",
    "    def __buildVocabulary(self, text, vocab_size, min_freq):\n",
    "        '''Unlist all the nested list and build a vocabulary'''\n",
    "        tokens = []\n",
    "        for sent in text:\n",
    "            for words in sent:\n",
    "                tokens.extend(words)\n",
    "        #tokens = list(itertools.chain.from_iterable(text))\n",
    "        token_freq = Counter(tokens)\n",
    "        token_freq_set = token_freq.most_common(vocab_size-1)\n",
    "        vocab =[k for k, v in token_freq_set if v>=min_freq]\n",
    "        if 'UNK' not in vocab:\n",
    "            vocab.append('UNK')\n",
    "        return vocab\n",
    "    \n",
    "    def token2ix(self, text, vocab_size=10000, min_freq=2):\n",
    "        vocab = self.__buildVocabulary(text, vocab_size, min_freq)\n",
    "        #Map each char into an ID\n",
    "        word_id_map = dict(zip(vocab, range(len(vocab))))\n",
    "        #Map each ID into a word\n",
    "        id_word_map = dict(zip(word_id_map.values(), word_id_map.keys()))\n",
    "        return word_id_map, id_word_map, vocab\n",
    "        \n",
    "    def sent2ids(self, word_id_map, sent):\n",
    "        def word2id(c):\n",
    "            try:\n",
    "               ID = word_id_map[c]\n",
    "            except:#Trun those less frequent words into UNK\n",
    "               ID = word_id_map['UNK']\n",
    "            return ID\n",
    "        \n",
    "        ids = [word2id(item) for item in sent]\n",
    "        return ids\n",
    "    \n",
    "    def sents2sent(self, word_id_map, sents):\n",
    "        sents_ids = []\n",
    "        for sent in sents:       \n",
    "            ids = self.sent2ids(word_id_map, sent)\n",
    "            sents_ids.append(ids)\n",
    "        return sents_ids\n",
    "        \n",
    "    def texts2sents(self, word_id_map, texts):\n",
    "        texts_ids = []\n",
    "        for text in texts:       \n",
    "            ids = self.sents2sent(word_id_map, text)\n",
    "            texts_ids.append(ids)\n",
    "        return texts_ids"
   ]
  },
  {
   "cell_type": "code",
   "execution_count": 99,
   "metadata": {
    "collapsed": false
   },
   "outputs": [],
   "source": [
    "class dataTransform(text2ids):\n",
    "    '''\n",
    "    An object of news data\n",
    "    Transform texts into lists of ids\n",
    "    '''\n",
    "    def __init__(self, train_text, test_text, vocab_size=10000, min_freq=2):\n",
    "        self.train_text = train_text\n",
    "        self.test_text = test_text\n",
    "        self.vocab_size= vocab_size\n",
    "        self.min_freq = min_freq\n",
    "        self.__buildVocabulary()\n",
    "    \n",
    "    def __buildVocabulary(self):\n",
    "        '''Unlist all the nested list and build a vocabulary'''\n",
    "        self.word_id_map, self.id_word_map, self.vocab = self.token2ix(self.train_text, \n",
    "                                                                                self.vocab_size, \n",
    "                                                                                self.min_freq)\n",
    "        \n",
    "    def text2ids(self):\n",
    "        '''\n",
    "        Transform texts into sentences of words\n",
    "        '''\n",
    "        train_sents_ids = self.texts2sents(self.word_id_map, self.train_text)\n",
    "        test_sents_ids = self.texts2sents(self.word_id_map, self.test_text)\n",
    "        return train_sents_ids, test_sents_ids\n",
    "    \n",
    "    def vocabularyMap(self):\n",
    "        return self.word_id_map, self.id_word_map, self.vocab\n",
    "        "
   ]
  },
  {
   "cell_type": "code",
   "execution_count": 100,
   "metadata": {
    "collapsed": false
   },
   "outputs": [],
   "source": [
    "hier_train_text, hier_train_label = list(zip(*hier_train_data))\n",
    "hier_test_text, hier_test_label = list(zip(*hier_test_data))"
   ]
  },
  {
   "cell_type": "code",
   "execution_count": 101,
   "metadata": {
    "collapsed": false
   },
   "outputs": [],
   "source": [
    "#Transform texts of hierarchical lists of words\n",
    "dt = dataTransform(hier_train_text, hier_test_text)\n",
    "train_sents_ids, test_sents_ids = dt.text2ids()\n",
    "word_id_map, id_word_map, vocab = dt.vocabularyMap()"
   ]
  },
  {
   "cell_type": "markdown",
   "metadata": {},
   "source": [
    "Now that we have transform words into IDs, we can take a look at the lengths of sentences."
   ]
  },
  {
   "cell_type": "code",
   "execution_count": 102,
   "metadata": {
    "collapsed": false
   },
   "outputs": [],
   "source": [
    "sents_lengths = []\n",
    "for text in train_sents_ids:\n",
    "    for sents in text:\n",
    "            sents_lengths.append(len(sents))"
   ]
  },
  {
   "cell_type": "code",
   "execution_count": 103,
   "metadata": {
    "collapsed": false
   },
   "outputs": [
    {
     "name": "stdout",
     "output_type": "stream",
     "text": [
      "Max Length 1076\n",
      "Min Length 1\n"
     ]
    }
   ],
   "source": [
    "print('Max Length', max(sents_lengths))\n",
    "print('Min Length', min(sents_lengths))"
   ]
  },
  {
   "cell_type": "code",
   "execution_count": 104,
   "metadata": {
    "collapsed": false
   },
   "outputs": [
    {
     "data": {
      "text/plain": [
       "array([  2.  ,   6.  ,   9.  ,  16.  ,  25.  ,  70.88])"
      ]
     },
     "execution_count": 104,
     "metadata": {},
     "output_type": "execute_result"
    }
   ],
   "source": [
    "np.percentile(sents_lengths, [5, 15, 25, 50, 75, 99])"
   ]
  },
  {
   "cell_type": "markdown",
   "metadata": {},
   "source": [
    "Most sentences have less than 100 words whereas the maximum length is 8263 and the minimum is 1, quite unusual. "
   ]
  },
  {
   "cell_type": "code",
   "execution_count": 105,
   "metadata": {
    "collapsed": true
   },
   "outputs": [],
   "source": [
    "max_sent_len = 72"
   ]
  },
  {
   "cell_type": "code",
   "execution_count": 106,
   "metadata": {
    "collapsed": true
   },
   "outputs": [],
   "source": [
    "def judgeLength(data):\n",
    "    text = data[0]\n",
    "    lengths = []\n",
    "    #print(text)\n",
    "    for sents in text:\n",
    "        lengths.append(len(sents))\n",
    "    flag = max(lengths) < max_sent_len\n",
    "    return flag"
   ]
  },
  {
   "cell_type": "markdown",
   "metadata": {},
   "source": [
    "Compress the text IDs and labels into one list."
   ]
  },
  {
   "cell_type": "code",
   "execution_count": 107,
   "metadata": {
    "collapsed": false
   },
   "outputs": [],
   "source": [
    "hier_train_vecs = list(zip(train_sents_ids, hier_train_label))\n",
    "hier_test_vecs = list(zip(test_sents_ids, hier_test_label))"
   ]
  },
  {
   "cell_type": "code",
   "execution_count": 108,
   "metadata": {
    "collapsed": false
   },
   "outputs": [],
   "source": [
    "#Filter those news with extreme long sentences\n",
    "hier_train_vecs = list(filter(judgeLength, hier_train_vecs))\n",
    "hier_test_vecs = list(filter(judgeLength, hier_test_vecs))"
   ]
  },
  {
   "cell_type": "code",
   "execution_count": 109,
   "metadata": {
    "collapsed": false
   },
   "outputs": [
    {
     "data": {
      "text/plain": [
       "49"
      ]
     },
     "execution_count": 109,
     "metadata": {},
     "output_type": "execute_result"
    }
   ],
   "source": [
    "max(map(len, train_sents_ids))"
   ]
  },
  {
   "cell_type": "markdown",
   "metadata": {},
   "source": [
    "A news can have as many as 49 sentences atmost."
   ]
  },
  {
   "cell_type": "code",
   "execution_count": 110,
   "metadata": {
    "collapsed": false
   },
   "outputs": [
    {
     "name": "stdout",
     "output_type": "stream",
     "text": [
      "Counts of Training Data: 9903  Counts of Testing Data: 6648\n"
     ]
    }
   ],
   "source": [
    "print('Counts of Training Data:', len(hier_train_vecs), ' Counts of Testing Data:', len(hier_test_vecs))"
   ]
  },
  {
   "cell_type": "markdown",
   "metadata": {},
   "source": [
    "## Data Split"
   ]
  },
  {
   "cell_type": "markdown",
   "metadata": {},
   "source": [
    "In order to evaluate the performances of our models, we need to divide our training set into training part and validation part. The validation part of texts share the same distributions of training part, so it is likely to use them to check whether the model is overfitting."
   ]
  },
  {
   "cell_type": "code",
   "execution_count": 111,
   "metadata": {
    "collapsed": true
   },
   "outputs": [],
   "source": [
    "from sklearn.model_selection import train_test_split\n",
    "news_vecs, news_labels = list(zip(*hier_train_vecs))\n",
    "test_news_vecs, test_news_labels = list(zip(*hier_test_vecs))\n",
    "training_text_vecs, validation_text_vecs, training_text_labels, validation_text_labels = \\\n",
    "                                                              train_test_split(news_vecs, news_labels, test_size=160, random_state=111)"
   ]
  },
  {
   "cell_type": "code",
   "execution_count": 112,
   "metadata": {
    "collapsed": true
   },
   "outputs": [],
   "source": [
    "hier_train_input = list(zip(training_text_vecs, training_text_labels))\n",
    "hier_valid_input = list(zip(validation_text_vecs, validation_text_labels))\n",
    "hier_test_input = list(zip(test_news_vecs, test_news_labels))"
   ]
  },
  {
   "cell_type": "code",
   "execution_count": 113,
   "metadata": {
    "collapsed": false
   },
   "outputs": [
    {
     "data": {
      "text/plain": [
       "6648"
      ]
     },
     "execution_count": 113,
     "metadata": {},
     "output_type": "execute_result"
    }
   ],
   "source": [
    "len(hier_test_input)"
   ]
  },
  {
   "cell_type": "code",
   "execution_count": 114,
   "metadata": {
    "collapsed": false
   },
   "outputs": [],
   "source": [
    "#Save files in local disk\n",
    "import pandas as pd\n",
    "train_data_processed = {'text':training_text_vecs, 'label':training_text_labels}\n",
    "valid_data_processed = {'text':validation_text_vecs, 'label':validation_text_labels}\n",
    "test_data_processed = {'text':test_news_vecs, 'label':test_news_labels}\n",
    "td = pd.DataFrame(train_data_processed)\n",
    "td.to_csv('training_data_processed.csv', index=False)\n",
    "td = pd.DataFrame(test_data_processed)\n",
    "td.to_csv('testing_data_processed.csv', index=False)"
   ]
  },
  {
   "cell_type": "markdown",
   "metadata": {},
   "source": [
    "## News to IDs"
   ]
  },
  {
   "cell_type": "code",
   "execution_count": 115,
   "metadata": {
    "collapsed": true
   },
   "outputs": [],
   "source": [
    "def word2id(c):\n",
    "    try:\n",
    "        ID = word_id_map[c]\n",
    "    except:#Trun those less frequent words into UNK\n",
    "        ID = word_id_map['UNK']\n",
    "    return ID\n",
    "def id2word(c):\n",
    "    try:\n",
    "        word = id_word_map[c]\n",
    "    except:\n",
    "        word='UNK'\n",
    "    return word"
   ]
  },
  {
   "cell_type": "markdown",
   "metadata": {},
   "source": [
    "It seems the length varies much, perhaps we need buckets to put news with similar lengths together."
   ]
  },
  {
   "cell_type": "markdown",
   "metadata": {},
   "source": [
    "## Create Batch Data Generator"
   ]
  },
  {
   "cell_type": "code",
   "execution_count": 87,
   "metadata": {
    "collapsed": false
   },
   "outputs": [],
   "source": [
    "import random\n",
    "class generateSamples:\n",
    "    '''Generate samples for training and testing'''\n",
    "    \n",
    "    def __init__(self, hier_data, max_len=100):\n",
    "        '''Pass batch size and poems vectors'''\n",
    "        news_vecs, news_labels = list(zip(*hier_data))\n",
    "        self.index = 0\n",
    "        self.news_vecs = news_vecs\n",
    "        self.news_labels = news_labels\n",
    "        self.news_count = len(news_vecs)\n",
    "        self.max_sent_len = max_len\n",
    "        \n",
    "    def generate_batch(self, batch_size=64, is_training=True):\n",
    "        '''Generate a training sample each time'''\n",
    "        \n",
    "        selected_samples = []\n",
    "        selected_labels = []\n",
    "        batch_weights = []\n",
    "        #For training, select random samples\n",
    "        if is_training:\n",
    "            selected_index = np.random.choice(len(self.news_vecs), batch_size, replace=True)\n",
    "            for index in selected_index:\n",
    "                selected_samples.append(self.news_vecs[index])\n",
    "                selected_labels.append(self.news_labels[index])\n",
    "\n",
    "        #For testing, select a few samples each time\n",
    "        else:#Testing model\n",
    "            start = self.index%self.news_count\n",
    "            end = (start + batch_size)%self.news_count\n",
    "            #In case end goes beyong the range of the samples\n",
    "            if end > start:\n",
    "                selected_samples = self.news_vecs[start: end]\n",
    "                selected_labels = self.news_labels[start: end]\n",
    "                self.index = end\n",
    "            else:\n",
    "                print('Test Samples come to an end!')\n",
    "                selected_samples = self.news_vecs[start: ]\n",
    "                selected_labels = self.news_labels[start: ]\n",
    "                self.index = 0\n",
    "            \n",
    "        #Find the maximun number of sentences in one text\n",
    "        max_sent_count = max(map(len, selected_samples))\n",
    "        #Find the longest sentence and record the length\n",
    "        find_max_len = lambda x: max(map(len, x))\n",
    "        max_sent_length = max(map(find_max_len, selected_samples))\n",
    "        #Record sentence number for each text\n",
    "        max_sent_count = 49\n",
    "        #Get the max length in current batch\n",
    "        #Three level lengths\n",
    "        text_sent_lengths = []\n",
    "        text_sent_vectors = []\n",
    "        for sample in selected_samples:\n",
    "            #Create input and label\n",
    "            sent_lengths = []\n",
    "            sent_vectors = []\n",
    "            for sent in sample:\n",
    "                x = np.full((self.max_sent_len), word2id('UNK'), np.int32)\n",
    "                #Record lengths of each sentence\n",
    "                sent_lengths.append(len(sent))\n",
    "                #Transform a list to a vector\n",
    "                x[:len(sent)] = np.array(sent)\n",
    "                sent_vectors.append(x)\n",
    "            #Record each sentence information for each text\n",
    "            text_sent_lengths.append(sent_lengths)\n",
    "            text_sent_vectors.append(sent_vectors)\n",
    "            \n",
    "        text_sent_labels = np.array(selected_labels)\n",
    "\n",
    "        return text_sent_vectors, text_sent_labels, text_sent_lengths\n",
    "    "
   ]
  },
  {
   "cell_type": "code",
   "execution_count": 126,
   "metadata": {
    "collapsed": true
   },
   "outputs": [],
   "source": [
    "class generateTextSequences:\n",
    "    '''Generate hierarchical samples for training and testing'''\n",
    "    \n",
    "    def __init__(self, hier_data, max_sent_len=75, max_sent_count=49):\n",
    "        '''Pass batch size and poems vectors'''\n",
    "        news_vecs, news_labels = list(zip(*hier_data))\n",
    "        self.index = 0\n",
    "        self.news_vecs = news_vecs\n",
    "        self.news_labels = news_labels\n",
    "        self.news_count = len(news_vecs)\n",
    "        self.max_sent_len = max_sent_len\n",
    "        self.max_sent_count = max_sent_count\n",
    "        \n",
    "    def generate_batch(self, batch_size=32, is_training=True):\n",
    "        '''Generate a training sample each time'''\n",
    "        \n",
    "        selected_samples = []\n",
    "        selected_labels = []\n",
    "        batch_weights = []\n",
    "        #For training, select random samples\n",
    "        if is_training:\n",
    "            selected_index = np.random.choice(len(self.news_vecs), batch_size, replace=True)\n",
    "            for index in selected_index:\n",
    "                selected_samples.append(self.news_vecs[index])\n",
    "                selected_labels.append(self.news_labels[index])\n",
    "\n",
    "        #For testing, select a few samples each time\n",
    "        else:#Testing model\n",
    "            start = self.index%self.news_count\n",
    "            end = (start + batch_size)%self.news_count\n",
    "            #In case end goes beyong the range of the samples\n",
    "            if end > start:\n",
    "                selected_samples = self.news_vecs[start: end]\n",
    "                selected_labels = self.news_labels[start: end]\n",
    "                self.index = end\n",
    "            else:\n",
    "                print('Samples come to an end!')\n",
    "                selected_samples = self.news_vecs[start: ]\n",
    "                selected_labels = self.news_labels[start: ]\n",
    "                self.index = 0\n",
    "            \n",
    "        #Find the maximun number of sentences in one text\n",
    "        #max_sent_count = max(map(len, selected_samples))\n",
    "        max_sent_count = self.max_sent_count\n",
    "        #Find the longest sentence and record the length\n",
    "        find_max_len = lambda x: max(map(len, x))\n",
    "        #max_sent_length = max(map(find_max_len, selected_samples))\n",
    "        max_sent_length = self.max_sent_len\n",
    "        #Get the max length in current batch\n",
    "        #Three level lengths\n",
    "        text_sent_vectors = np.full((batch_size, max_sent_count, max_sent_length), word2id('UNK'), np.int32)\n",
    "        text_sent_lengths = np.full((batch_size, max_sent_count), 0, np.int32)\n",
    "        for i, sample in enumerate(selected_samples):\n",
    "            #Create input and label\n",
    "            for j, sent in enumerate(sample):\n",
    "                #Record lengths of each sentence\n",
    "                text_sent_lengths[i, j] = len(sent)\n",
    "                #Transform a list to a vector\n",
    "                text_sent_vectors[i, j, :len(sent)] = np.array(sent)\n",
    "            \n",
    "        text_sent_labels = np.array(selected_labels)\n",
    "\n",
    "        return text_sent_vectors, text_sent_labels, text_sent_lengths\n",
    "    "
   ]
  },
  {
   "cell_type": "code",
   "execution_count": 89,
   "metadata": {
    "collapsed": false,
    "scrolled": true
   },
   "outputs": [],
   "source": [
    "gs_train = generateTextSequences(hier_train_input)\n",
    "train_text_vectors, train_text_labels, train_text_lengths = gs_train.generate_batch()\n",
    "gs_test = generateTextSequences(hier_test_input)\n",
    "test_text_vectors, test_text_labels, test_text_lengths = gs_test.generate_batch(is_training=False)"
   ]
  },
  {
   "cell_type": "markdown",
   "metadata": {},
   "source": [
    "From the data exploration, it is clear that the length of the news varies much, ranging from 10 to 10000. In order to deal with that case, we can take buckets into consideration, similar to seq2seq model."
   ]
  },
  {
   "cell_type": "code",
   "execution_count": 117,
   "metadata": {
    "collapsed": false
   },
   "outputs": [],
   "source": [
    "class trainConfig:\n",
    "    vocab_size = len(vocab)\n",
    "    max_sent_len = 82\n",
    "    label_size = 20\n",
    "    embed_size = 64\n",
    "    batch_size = 16\n",
    "    layer_size = 2\n",
    "    max_sent_count = 49"
   ]
  },
  {
   "cell_type": "code",
   "execution_count": 118,
   "metadata": {
    "collapsed": false
   },
   "outputs": [],
   "source": [
    "class testConfig:\n",
    "    vocab_size = len(vocab)\n",
    "    max_sent_len = 82\n",
    "    label_size = 20\n",
    "    embed_size = 64\n",
    "    batch_size = 16\n",
    "    layer_size = 2\n",
    "    max_sent_count = 49\n",
    "    \n",
    "class singleConfig:\n",
    "    vocab_size = len(vocab)\n",
    "    max_sent_len = 82\n",
    "    label_size = 20\n",
    "    embed_size = 64\n",
    "    batch_size = 1\n",
    "    layer_size = 2\n",
    "    max_sent_count = 49"
   ]
  },
  {
   "cell_type": "markdown",
   "metadata": {},
   "source": [
    "## Dynamic Hierarchical RNN Model\n",
    "\n",
    "In this model, we view each text as a series of sentences and each sentence consists of a sereies of words. First, we use word vectors of a sentence to feed LSTM to generate a sentence vector, then we use sentence vectors to generate a text vector."
   ]
  },
  {
   "cell_type": "code",
   "execution_count": 119,
   "metadata": {
    "collapsed": true
   },
   "outputs": [],
   "source": [
    "import functools\n",
    "from tensorflow.contrib.layers.python.layers import encoders\n",
    "def lazy_property(function):\n",
    "    attribute = '_cache_' + function.__name__\n",
    "\n",
    "    @property\n",
    "    @functools.wraps(function)\n",
    "    def decorator(self):\n",
    "        if not hasattr(self, attribute):\n",
    "            setattr(self, attribute, function(self))\n",
    "        return getattr(self, attribute)\n",
    "\n",
    "    return decorator"
   ]
  },
  {
   "cell_type": "code",
   "execution_count": 120,
   "metadata": {
    "collapsed": false
   },
   "outputs": [],
   "source": [
    "#Reference:http://blog.csdn.net/u010223750/article/details/71079036\n",
    "from tensorflow.contrib import rnn\n",
    "class HierarchicalRNN_Model:\n",
    "    def __init__(self, config, x, y, lengths, is_training=True):\n",
    "        self.x = x\n",
    "        self.y = y\n",
    "        self.vocab_size = config.vocab_size\n",
    "        self.embed_size = config.embed_size\n",
    "        self.label_size = config.label_size\n",
    "        self.batch_size = config.batch_size\n",
    "        self.lengths = lengths\n",
    "        self.max_sent_len = config.max_sent_len\n",
    "        self.max_sent_count = config.max_sent_count\n",
    "        self.is_training = is_training\n",
    "        self.predict\n",
    "        if is_training:\n",
    "            self.optimize\n",
    "        print('Model Initialized!')\n",
    "    \n",
    "    @lazy_property\n",
    "    def cost(self):\n",
    "        logits = self.inference\n",
    "        targets = tf.one_hot(self.y, 20, 1, 0)\n",
    "        targets = tf.cast(targets, tf.float32)\n",
    "        #Note  tf.nn.softmax_cross_entropy_with_logits(labels=Y, logits=activation)\n",
    "        loss = tf.losses.softmax_cross_entropy(targets, logits)\n",
    "        return loss\n",
    "    \n",
    "    @lazy_property\n",
    "    def predict(self):\n",
    "        logits = self.inference\n",
    "        #probs = tf.nn.softmax(logits)\n",
    "        predictions = tf.argmax(logits, 1)\n",
    "        return predictions\n",
    "    \n",
    "    @lazy_property\n",
    "    def correct_num(self):\n",
    "        prediction = self.predict\n",
    "        targets = tf.reshape(self.y, [-1])\n",
    "        targets = tf.cast(targets, tf.int64)\n",
    "        correct_prediction = tf.equal(prediction, targets)\n",
    "        correct_num = tf.reduce_sum(tf.cast(correct_prediction, \"float\"))\n",
    "        return correct_num\n",
    "    \n",
    "    @lazy_property\n",
    "    def optimize(self):\n",
    "        with tf.variable_scope('optimizer'):\n",
    "            cost = self.cost\n",
    "        #with tf.name_scope('Optimizer'):\n",
    "            #self._learning_rate = tf.Variable(0.0, trainable=False)\n",
    "            train_op = tf.train.AdamOptimizer(0.0005).minimize(cost)\n",
    "            #train_op = tf.train.AdamOptimizer(self._learning_rate).minimize(cost)\n",
    "            #tvars = tf.trainable_variables()\n",
    "            #grads, _ = tf.clip_by_global_norm(tf.gradients(cost, tvars), 6)\n",
    "            #optimizer = tf.train.AdamOptimizer(self._learning_rate)\n",
    "            #train_op = optimizer.apply_gradients(zip(grads, tvars))\n",
    "        return train_op\n",
    "    \n",
    "            \n",
    "    \n",
    "    @lazy_property\n",
    "    def inference(self):\n",
    "        '''\n",
    "        Transform each text into a vector on basis of sentence vectors\n",
    "        '''\n",
    "        #Create embedding matrix\n",
    "        with tf.variable_scope('Embeddings'):\n",
    "            with tf.device(\"/cpu:0\"):\n",
    "                embeddings = tf.get_variable('embedding', [self.vocab_size,  self.embed_size])\n",
    "                inputs = tf.nn.embedding_lookup(embeddings, self.x)\n",
    "        if self.is_training:\n",
    "            inputs = tf.nn.dropout(inputs, 0.5)\n",
    "\n",
    "        #slice inputs into a series of vectors\n",
    "        #batch_doc_vectors = tf.unstack(inputs, axis=0)\n",
    "        def lstm():\n",
    "            cell = rnn.BasicLSTMCell(self.embed_size, forget_bias=0.0, \n",
    "                                      state_is_tuple=True) \n",
    "            if self.is_training:\n",
    "                cell = tf.contrib.rnn.DropoutWrapper(cell, output_keep_prob=0.5)\n",
    "            return cell\n",
    "        with tf.variable_scope('RNN_Word_Layer'):      \n",
    "            #cell = rnn.MultiRNNCell([lstm_cell() for _ in range(2)], \n",
    "                                #state_is_tuple=True)\n",
    "            cell_word = rnn.MultiRNNCell([lstm()],  state_is_tuple=True)\n",
    "\n",
    "        #Get the size\n",
    "        #(document_size, sentence_size, word_size) = tf.unstack(tf.shape(self.x))\n",
    "        #Dynamic RNN with given lengths for each text\n",
    "        #Get RNN vector for each sentence\n",
    "        text_states = []\n",
    "        for i in range(self.batch_size):\n",
    "            input_text = inputs[i]\n",
    "            initial_state_word = cell_word.zero_state((self.max_sent_count), tf.float32)\n",
    "            #Pass the lengths of each sentence\n",
    "            outputs_word, status_word = tf.nn.dynamic_rnn(cell_word, input_text, initial_state=initial_state_word,\n",
    "                                                sequence_length=self.lengths[i], dtype=tf.float32)\n",
    "            \n",
    "            #Get the final hidden state\n",
    "            final_status_word = status_word[-1].h\n",
    "            #For debugging\n",
    "            #self.final_status = final_status\n",
    "            #print(status_concat)\n",
    "            #Use mean hidden state of sent states as the text hidden state\n",
    "            #text_hidden_state = tf.reduce_mean(final_status, axis=0)\n",
    "            #Use sent hidden states to feed another LSTM\n",
    "            text_states.append(final_status_word)\n",
    "        #Pass the sentence hidden vector into a LSTM\n",
    "        text_states = tf.stack(text_states)\n",
    "        #Get the number of sentences of each text\n",
    "        great_num = tf.greater(self.lengths, 0)\n",
    "        great_num = tf.cast(great_num, tf.int32)\n",
    "        text_sent_num = tf.reduce_sum(great_num, axis=1)\n",
    "        #Now view a text as a series of sentence vectors\n",
    "        with tf.variable_scope('RNN_Sent_Layer'):      \n",
    "            #cell = rnn.MultiRNNCell([lstm_cell() for _ in range(2)], \n",
    "                                #state_is_tuple=True)\n",
    "            cell_sent = rnn.MultiRNNCell([lstm()],  state_is_tuple=True)\n",
    "            initial_state_sent = cell_sent.zero_state((self.batch_size), tf.float32)\n",
    "            outputs_sent, status_sent = tf.nn.dynamic_rnn(cell_sent, text_states, initial_state=initial_state_sent,\n",
    "                                                      sequence_length=text_sent_num,\n",
    "                                                      dtype=tf.float32)\n",
    "                \n",
    "            \n",
    "        output = status_sent[-1].h\n",
    "        \n",
    "        #output = outputs[:,-1,:]\n",
    "        #If we use padding, the last output will be based on the padding input values\n",
    "        #Note here we use the hidden state instead of the last output\n",
    "        #In dynamic rnn, the last state will remain the same after specified time steps\n",
    "        #For example, if the length is 10 and the padding sequence has 20 words, the \n",
    "        #final state will be the one of 10th time step\n",
    "        #Multilayer RNN has multilayer hidden states\n",
    "        #output = status[1].h\n",
    "        \n",
    "        \n",
    "        weights = tf.get_variable('weights', [self.embed_size, self.label_size], dtype=tf.float32)\n",
    "        biases = tf.get_variable('biases', [self.label_size], dtype=tf.float32)\n",
    "        logits = tf.matmul(output, weights) + biases\n",
    "        #预测值\n",
    "        return logits\n",
    "    \n",
    "    @property\n",
    "    def learningRate(self):\n",
    "        return self._learning_rate\n",
    "        "
   ]
  },
  {
   "cell_type": "code",
   "execution_count": 45,
   "metadata": {
    "collapsed": false
   },
   "outputs": [
    {
     "name": "stdout",
     "output_type": "stream",
     "text": [
      "Model Initialized!\n"
     ]
    }
   ],
   "source": [
    "graph_rnn = tf.Graph()\n",
    "#Create models for training and testing data\n",
    "with graph_rnn.as_default():\n",
    "    initializer = tf.random_uniform_initializer(-0.02, 0.02)\n",
    "    with tf.name_scope('train'):\n",
    "        train_texts = tf.placeholder(tf.int32, [trainConfig.batch_size, None, None])\n",
    "        train_label = tf.placeholder(tf.int32, [trainConfig.batch_size])\n",
    "        train_lengths = tf.placeholder(tf.float32, [trainConfig.batch_size, None])\n",
    "        #Set different models for different buckets\n",
    "        with tf.variable_scope(\"Model\", reuse=None, initializer=initializer):\n",
    "            train_model = HierarchicalRNN_Model(trainConfig, train_texts, train_label, train_lengths)\n"
   ]
  },
  {
   "cell_type": "code",
   "execution_count": 46,
   "metadata": {
    "collapsed": false
   },
   "outputs": [
    {
     "name": "stdout",
     "output_type": "stream",
     "text": [
      "Model Initialized!\n",
      "Model Initialized!\n"
     ]
    }
   ],
   "source": [
    "with graph_rnn.as_default():\n",
    "    with tf.name_scope('test'):\n",
    "        test_texts = tf.placeholder(tf.int32, [testConfig.batch_size, None, None])\n",
    "        test_label = tf.placeholder(tf.int32, [testConfig.batch_size])\n",
    "        test_lengths = tf.placeholder(tf.float32, [testConfig.batch_size, None])\n",
    "        single_text = tf.placeholder(tf.int32, [1, None, None])\n",
    "        single_label = tf.placeholder(tf.int32, [1])\n",
    "        single_lengths = tf.placeholder(tf.float32, [1, None])\n",
    "        #Set different models for different buckets\n",
    "        with tf.variable_scope(\"Model\", reuse=True, initializer=initializer):\n",
    "            test_model = HierarchicalRNN_Model(testConfig, test_texts, test_label, test_lengths, False)\n",
    "            single_model = HierarchicalRNN_Model(singleConfig, single_text, single_label, single_lengths, False)"
   ]
  },
  {
   "cell_type": "code",
   "execution_count": 121,
   "metadata": {
    "collapsed": false
   },
   "outputs": [
    {
     "data": {
      "text/plain": [
       "8"
      ]
     },
     "execution_count": 121,
     "metadata": {},
     "output_type": "execute_result"
    }
   ],
   "source": [
    "train_chunk_num = int(len(hier_train_input)/trainConfig.batch_size)\n",
    "test_chunk_num = int(len(hier_test_input)/testConfig.batch_size)\n",
    "valid_chunk_num = int(len(hier_valid_input)/testConfig.batch_size)\n",
    "remain_num = len(hier_test_input) - testConfig.batch_size*test_chunk_num\n",
    "remain_num"
   ]
  },
  {
   "cell_type": "code",
   "execution_count": 127,
   "metadata": {
    "collapsed": false
   },
   "outputs": [],
   "source": [
    "gs_train = generateTextSequences(hier_train_input)\n",
    "train_text_vectors, train_text_labels, train_text_lengths = gs_train.generate_batch(batch_size=trainConfig.batch_size)"
   ]
  },
  {
   "cell_type": "code",
   "execution_count": 124,
   "metadata": {
    "collapsed": false
   },
   "outputs": [
    {
     "data": {
      "text/plain": [
       "608"
      ]
     },
     "execution_count": 124,
     "metadata": {},
     "output_type": "execute_result"
    }
   ],
   "source": [
    "train_chunk_num"
   ]
  },
  {
   "cell_type": "code",
   "execution_count": 128,
   "metadata": {
    "collapsed": false
   },
   "outputs": [],
   "source": [
    "def model_validation(gs, chunk_num):\n",
    "    #gs_valid = generateTextSequences(hier_valid_data)\n",
    "    count = 0\n",
    "    for _ in range(chunk_num):\n",
    "        valid_text_vectors, valid_text_labels, valid_text_lengths = \\\n",
    "                                                       gs.generate_batch(batch_size=testConfig.batch_size, \n",
    "                                                                               is_training=False)\n",
    "        feed_dict = {test_texts:valid_text_vectors, test_label:valid_text_labels, \n",
    "                         test_lengths:valid_text_lengths}\n",
    "        num = sess.run([test_model.correct_num], feed_dict=feed_dict)\n",
    "        count += np.sum(num)\n",
    "    return count"
   ]
  },
  {
   "cell_type": "code",
   "execution_count": 129,
   "metadata": {
    "collapsed": false
   },
   "outputs": [
    {
     "name": "stdout",
     "output_type": "stream",
     "text": [
      "Loss: 2.9975\n",
      "Loss: 2.6574\n",
      "Loss: 2.5238\n",
      "Validating\n",
      "Samples come to an end!\n",
      "Validation Accuracy:0.1313\n",
      "Epoch 1 time:672.91\n",
      "Loss: 2.2751\n",
      "Loss: 2.3032\n",
      "Loss: 2.4473\n",
      "Validating\n",
      "Samples come to an end!\n",
      "Validation Accuracy:0.1000\n",
      "Epoch 2 time:674.12\n",
      "Testing...\n",
      "Testing Time:90.16\n",
      "Testing Accuracy: 0.109487951807\n"
     ]
    }
   ],
   "source": [
    "import time\n",
    "epochs = 2\n",
    "with tf.Session(graph=graph_rnn) as sess:\n",
    "    #Initialize parameters\n",
    "    init = tf.global_variables_initializer()\n",
    "    sess.run(init)\n",
    "    start_time = time.time()\n",
    "    for m in range(epochs):\n",
    "        #Training\n",
    "        for i in range(train_chunk_num):\n",
    "            #sess.run(tf.assign(learning_rate, 0.002*((0.98)**m)))\n",
    "            train_text_vectors, train_text_labels, train_text_lengths = \\\n",
    "                                                       gs_train.generate_batch(batch_size=trainConfig.batch_size)\n",
    "            feed_dict = {train_texts:train_text_vectors, train_label:train_text_labels, \n",
    "                         train_lengths:train_text_lengths}\n",
    "            l, _ = sess.run([train_model.cost, train_model.optimize], feed_dict=feed_dict)\n",
    "            if i%300 == 0:\n",
    "                print('Loss:', round(l, 4))\n",
    "        #Validating\n",
    "        print('Validating')\n",
    "        gs_valid = generateTextSequences(hier_valid_input)\n",
    "        count = model_validation(gs_valid, valid_chunk_num)\n",
    "        print('Validation Accuracy:{:.4f}'.format(count/len(hier_valid_input)))\n",
    "        end_time = time.time()\n",
    "        print('Epoch', m+1, 'time:{:.2f}'.format(end_time - start_time))\n",
    "        start_time = end_time\n",
    "        \n",
    "    #Calculate Testing Accuracy\n",
    "    print('Testing...')\n",
    "    count = 0\n",
    "    gs_test = generateTextSequences(hier_test_input)\n",
    "    count = model_validation(gs_test, test_chunk_num)\n",
    "    \n",
    "    #for _ in range(test_chunk_num):\n",
    "        #Traverse each data\n",
    "        #gs_test = generateTextSequences(hier_test_input)\n",
    "        #test_text_vectors, test_text_labels, test_text_lengths = gs_test.generate_batch(batch_size=testConfig.batch_size, \n",
    "                                                                                #is_training=False)\n",
    "        #feed_dict = {test_texts:test_text_vectors, test_label:test_text_labels, \n",
    "                         #test_lengths:test_text_lengths}\n",
    "        #n = sess.run(test_model.correct_num, feed_dict=feed_dict)\n",
    "        #count += np.sum(n)\n",
    "    \n",
    "    end_time = time.time()\n",
    "    print('Testing Time:{:.2f}'.format(end_time - start_time))\n",
    "    print('Testing Accuracy:', count*1.0/test_chunk_num/testConfig.batch_size)  "
   ]
  },
  {
   "cell_type": "markdown",
   "metadata": {},
   "source": [
    "It seems Hierarchical RNN networks perform better than simple RNNnetworks, pehaps it considers the structure of the texts."
   ]
  }
 ],
 "metadata": {
  "anaconda-cloud": {},
  "hide_input": false,
  "kernelspec": {
   "display_name": "Python [default]",
   "language": "python",
   "name": "python3"
  },
  "language_info": {
   "codemirror_mode": {
    "name": "ipython",
    "version": 3
   },
   "file_extension": ".py",
   "mimetype": "text/x-python",
   "name": "python",
   "nbconvert_exporter": "python",
   "pygments_lexer": "ipython3",
   "version": "3.5.2"
  }
 },
 "nbformat": 4,
 "nbformat_minor": 2
}
